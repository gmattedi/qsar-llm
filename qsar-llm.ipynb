{
 "cells": [
  {
   "cell_type": "markdown",
   "id": "cbd8e27a-51b4-4ecb-80e5-27c4c71bf6e8",
   "metadata": {
    "execution": {
     "iopub.execute_input": "2023-07-17T13:19:28.515569Z",
     "iopub.status.busy": "2023-07-17T13:19:28.515256Z",
     "iopub.status.idle": "2023-07-17T13:19:28.519730Z",
     "shell.execute_reply": "2023-07-17T13:19:28.518888Z",
     "shell.execute_reply.started": "2023-07-17T13:19:28.515548Z"
    }
   },
   "source": [
    "# QSAR-LLM\n",
    "\n",
    "Basic attempt at training and calling QSAR models using large language models\n",
    "\n",
    "The repository implements:\n",
    "1. A wrapper around `lightgbm`'s `LGBMRegressor` and `LGBMClassifier` that allows to easily train simple regression and classification models\n",
    "2. A set of `langchain` tools to instruct LLM to download ChEMBL data packages for biological targets, train models and predict the actiivty of molecules\n",
    "\n",
    "\n",
    "Model parameters are saved as `lightgbm.Booster` params TXT files, and information on all trained models is stored using [`shelve`](https://docs.python.org/3/library/shelve.html)\n",
    "\n",
    "The tools and the agent have been set up to be able to handle most parsing and internal errors, helping the LLM correct its queries"
   ]
  },
  {
   "cell_type": "code",
   "execution_count": 1,
   "id": "aa015308-ae68-4184-b512-2d2fa1f0be1a",
   "metadata": {
    "execution": {
     "iopub.execute_input": "2023-07-17T13:15:09.416246Z",
     "iopub.status.busy": "2023-07-17T13:15:09.415821Z",
     "iopub.status.idle": "2023-07-17T13:15:11.739982Z",
     "shell.execute_reply": "2023-07-17T13:15:11.739343Z",
     "shell.execute_reply.started": "2023-07-17T13:15:09.416175Z"
    }
   },
   "outputs": [],
   "source": [
    "from langchain.llms import openai\n",
    "from langchain.agents import initialize_agent\n",
    "from langchain.agents import AgentType\n",
    "\n",
    "from tools import (\n",
    "    check_local_files,\n",
    "    get_models,\n",
    "    protein_name_to_accession,\n",
    "    accession_to_chembl_target_id,\n",
    "    query_target_data,\n",
    "    train_model,\n",
    "    predict_molecule,\n",
    "    shelf,\n",
    ")"
   ]
  },
  {
   "cell_type": "markdown",
   "id": "4bd7eeda-2b5c-44de-87f5-4db5c0b0e374",
   "metadata": {},
   "source": [
    "# Initialize the LLM and the LangChain agent"
   ]
  },
  {
   "cell_type": "code",
   "execution_count": 2,
   "id": "2014658e-e631-4762-af08-6ad07540cc88",
   "metadata": {
    "execution": {
     "iopub.execute_input": "2023-07-17T13:15:11.741494Z",
     "iopub.status.busy": "2023-07-17T13:15:11.741188Z",
     "iopub.status.idle": "2023-07-17T13:15:11.757506Z",
     "shell.execute_reply": "2023-07-17T13:15:11.756675Z",
     "shell.execute_reply.started": "2023-07-17T13:15:11.741479Z"
    }
   },
   "outputs": [],
   "source": [
    "llm = openai.OpenAI(temperature=0.0)\n",
    "agent = initialize_agent(\n",
    "    [\n",
    "        check_local_files,\n",
    "        get_models,\n",
    "        protein_name_to_accession,\n",
    "        accession_to_chembl_target_id,\n",
    "        query_target_data,\n",
    "        train_model,\n",
    "        predict_molecule,\n",
    "    ],\n",
    "    llm,\n",
    "    agent=AgentType.STRUCTURED_CHAT_ZERO_SHOT_REACT_DESCRIPTION,\n",
    "    verbose=True,\n",
    "    handle_parsing_errors=True,\n",
    "    handle_tool_error=True,\n",
    ")"
   ]
  },
  {
   "cell_type": "markdown",
   "id": "7e3f3b6f-f006-4254-accd-bf29e1462933",
   "metadata": {},
   "source": [
    "## Download ChEMBL data for JAK2 and train a regression model"
   ]
  },
  {
   "cell_type": "code",
   "execution_count": 3,
   "id": "5549034c-2c94-4103-9634-3efe274807c2",
   "metadata": {
    "execution": {
     "iopub.execute_input": "2023-07-17T13:15:11.758729Z",
     "iopub.status.busy": "2023-07-17T13:15:11.758432Z",
     "iopub.status.idle": "2023-07-17T13:15:42.912932Z",
     "shell.execute_reply": "2023-07-17T13:15:42.912337Z",
     "shell.execute_reply.started": "2023-07-17T13:15:11.758705Z"
    }
   },
   "outputs": [
    {
     "name": "stdout",
     "output_type": "stream",
     "text": [
      "\n",
      "\n",
      "\u001b[1m> Entering new AgentExecutor chain...\u001b[0m\n",
      "\u001b[32;1m\u001b[1;3m\n",
      "Action:\n",
      "```\n",
      "{\n",
      "  \"action\": \"protein_name_to_accession\",\n",
      "  \"action_input\": {\n",
      "    \"protein_name\": \"JAK2\"\n",
      "  }\n",
      "}\n",
      "```\n",
      "\n",
      "\u001b[0m\n",
      "Observation: \u001b[38;5;200m\u001b[1;3m('JAK2_HUMAN', 'Tyrosine-protein kinase JAK2', 'O60674')\u001b[0m\n",
      "Thought:\u001b[32;1m\u001b[1;3m I need to use the accession to get the ChEMBL target ID\n",
      "Action:\n",
      "```\n",
      "{\n",
      "  \"action\": \"accession_to_chembl_target_id\",\n",
      "  \"action_input\": {\n",
      "    \"accession\": \"O60674\"\n",
      "  }\n",
      "}\n",
      "```\n",
      "\n",
      "\u001b[0m\n",
      "Observation: \u001b[36;1m\u001b[1;3m('Tyrosine-protein kinase JAK2', 'CHEMBL2971', 'O60674')\u001b[0m\n",
      "Thought:\u001b[32;1m\u001b[1;3m I need to query the ChEMBL data package\n",
      "Action:\n",
      "```\n",
      "{\n",
      "  \"action\": \"query_target_data\",\n",
      "  \"action_input\": {\n",
      "    \"target_chembl_id\": \"CHEMBL2971\",\n",
      "    \"output_csv\": \"JAK2.csv\"\n",
      "  }\n",
      "}\n",
      "```\n",
      "\n",
      "\n",
      "\u001b[0m"
     ]
    },
    {
     "name": "stderr",
     "output_type": "stream",
     "text": [
      "Querying ChEMBL for CHEMBL2971: 100%|███████████████████████████████████████████| 7454/7454 [00:00<00:00, 15249.65it/s]\n",
      "/home/giulio/work/qsar-llm/tools.py:26: SettingWithCopyWarning: \n",
      "A value is trying to be set on a copy of a slice from a DataFrame.\n",
      "Try using .loc[row_indexer,col_indexer] = value instead\n",
      "\n",
      "See the caveats in the documentation: https://pandas.pydata.org/pandas-docs/stable/user_guide/indexing.html#returning-a-view-versus-a-copy\n",
      "  df[col] = pd.to_numeric(df[col])\n"
     ]
    },
    {
     "name": "stdout",
     "output_type": "stream",
     "text": [
      "\n",
      "Observation: \u001b[33;1m\u001b[1;3m{'pchembl_value': {'count': 6484.0, 'mean': 7.341097866394738, 'std': 1.219005643404945, 'min': 3.84, '25%': 6.48, '50%': 7.31, '75%': 8.14, 'max': 10.97}}\u001b[0m\n",
      "Thought:\u001b[32;1m\u001b[1;3m I need to train a model\n",
      "Action:\n",
      "```\n",
      "{\n",
      "  \"action\": \"train_model\",\n",
      "  \"action_input\": {\n",
      "    \"input_csv\": \"JAK2.csv\",\n",
      "    \"mode\": \"regression\",\n",
      "    \"model_name\": \"JAK2_regression\",\n",
      "    \"output_path\": \"JAK2_regression.txt\"\n",
      "  }\n",
      "}\n",
      "```\n",
      "\n",
      "\u001b[0m\n",
      "Observation: \u001b[38;5;200m\u001b[1;3m('r2', 0.5840131903651216)\u001b[0m\n",
      "Thought:\u001b[32;1m\u001b[1;3m I have the final answer\n",
      "Action:\n",
      "```\n",
      "{\n",
      "  \"action\": \"Final Answer\",\n",
      "  \"action_input\": \"I have trained a regression model for JAK2 with an R2 score of 0.58.\"\n",
      "}\n",
      "```\u001b[0m\n",
      "\n",
      "\u001b[1m> Finished chain.\u001b[0m\n"
     ]
    },
    {
     "data": {
      "text/plain": [
       "'I have trained a regression model for JAK2 with an R2 score of 0.58.'"
      ]
     },
     "execution_count": 3,
     "metadata": {},
     "output_type": "execute_result"
    }
   ],
   "source": [
    "text = \"\"\"\n",
    "Train a regression model to predict activity for JAK2 using a fresh ChEMBL data package for the target.\n",
    "Make sure to resolve the protein name to the correct ChEMBL target ID\"\"\"\n",
    "agent.run(text)"
   ]
  },
  {
   "cell_type": "markdown",
   "id": "f12fbeee-53f7-4167-9f6a-ec2fa58495a4",
   "metadata": {
    "execution": {
     "iopub.execute_input": "2023-07-17T13:22:45.728493Z",
     "iopub.status.busy": "2023-07-17T13:22:45.727628Z",
     "iopub.status.idle": "2023-07-17T13:22:45.742226Z",
     "shell.execute_reply": "2023-07-17T13:22:45.738728Z",
     "shell.execute_reply.started": "2023-07-17T13:22:45.728422Z"
    }
   },
   "source": [
    "# Train a classification model\n",
    "\n",
    "We can instruct the LLM to use different activity thresholds (here, the 50 percentile of activity values)"
   ]
  },
  {
   "cell_type": "code",
   "execution_count": 4,
   "id": "8f9eb872-74ce-4424-9c2e-a925f8aefd01",
   "metadata": {
    "execution": {
     "iopub.execute_input": "2023-07-17T13:15:42.913667Z",
     "iopub.status.busy": "2023-07-17T13:15:42.913507Z",
     "iopub.status.idle": "2023-07-17T13:16:17.437941Z",
     "shell.execute_reply": "2023-07-17T13:16:17.437375Z",
     "shell.execute_reply.started": "2023-07-17T13:15:42.913651Z"
    }
   },
   "outputs": [
    {
     "name": "stdout",
     "output_type": "stream",
     "text": [
      "\n",
      "\n",
      "\u001b[1m> Entering new AgentExecutor chain...\u001b[0m\n",
      "\u001b[32;1m\u001b[1;3m\n",
      "Action:\n",
      "```\n",
      "{\n",
      "  \"action\": \"query_target_data\",\n",
      "  \"action_input\": {\n",
      "    \"target_chembl_id\": \"\",\n",
      "    \"output_csv\": \"JAK2.csv\",\n",
      "    \"standard_types\": [\"Kd\", \"Ki\", \"IC50\"]\n",
      "  }\n",
      "}\n",
      "```\n",
      "\n",
      "\u001b[0m"
     ]
    },
    {
     "name": "stderr",
     "output_type": "stream",
     "text": [
      "Querying ChEMBL for : 0it [00:00, ?it/s]"
     ]
    },
    {
     "name": "stdout",
     "output_type": "stream",
     "text": [
      "\n",
      "Observation: \u001b[31;1m\u001b[1;3mNo data found for \u001b[0m\n",
      "Thought:"
     ]
    },
    {
     "name": "stderr",
     "output_type": "stream",
     "text": [
      "\n"
     ]
    },
    {
     "name": "stdout",
     "output_type": "stream",
     "text": [
      "\u001b[32;1m\u001b[1;3m Need to get the ChEMBL target ID\n",
      "Action:\n",
      "```\n",
      "{\n",
      "  \"action\": \"protein_name_to_accession\",\n",
      "  \"action_input\": {\n",
      "    \"protein_name\": \"JAK2\"\n",
      "  }\n",
      "}\n",
      "```\n",
      "\n",
      "\u001b[0m\n",
      "Observation: \u001b[38;5;200m\u001b[1;3m('JAK2_HUMAN', 'Tyrosine-protein kinase JAK2', 'O60674')\u001b[0m\n",
      "Thought:\u001b[32;1m\u001b[1;3m Need to get the ChEMBL target ID from the Uniprot accession\n",
      "Action:\n",
      "```\n",
      "{\n",
      "  \"action\": \"accession_to_chembl_target_id\",\n",
      "  \"action_input\": {\n",
      "    \"accession\": \"O60674\"\n",
      "  }\n",
      "}\n",
      "```\n",
      "\n",
      "\u001b[0m\n",
      "Observation: \u001b[36;1m\u001b[1;3m('Tyrosine-protein kinase JAK2', 'CHEMBL2971', 'O60674')\u001b[0m\n",
      "Thought:\u001b[32;1m\u001b[1;3m Need to query the ChEMBL data package\n",
      "Action:\n",
      "```\n",
      "{\n",
      "  \"action\": \"query_target_data\",\n",
      "  \"action_input\": {\n",
      "    \"target_chembl_id\": \"CHEMBL2971\",\n",
      "    \"output_csv\": \"JAK2.csv\",\n",
      "    \"standard_types\": [\"Kd\", \"Ki\", \"IC50\"]\n",
      "  }\n",
      "}\n",
      "```\n",
      "\n",
      "\n",
      "\u001b[0m"
     ]
    },
    {
     "name": "stderr",
     "output_type": "stream",
     "text": [
      "Querying ChEMBL for CHEMBL2971: 100%|███████████████████████████████████████████| 7454/7454 [00:00<00:00, 15985.06it/s]\n",
      "/home/giulio/work/qsar-llm/tools.py:26: SettingWithCopyWarning: \n",
      "A value is trying to be set on a copy of a slice from a DataFrame.\n",
      "Try using .loc[row_indexer,col_indexer] = value instead\n",
      "\n",
      "See the caveats in the documentation: https://pandas.pydata.org/pandas-docs/stable/user_guide/indexing.html#returning-a-view-versus-a-copy\n",
      "  df[col] = pd.to_numeric(df[col])\n"
     ]
    },
    {
     "name": "stdout",
     "output_type": "stream",
     "text": [
      "\n",
      "Observation: \u001b[33;1m\u001b[1;3m{'pchembl_value': {'count': 6484.0, 'mean': 7.341097866394738, 'std': 1.219005643404945, 'min': 3.84, '25%': 6.48, '50%': 7.31, '75%': 8.14, 'max': 10.97}}\u001b[0m\n",
      "Thought:\u001b[32;1m\u001b[1;3m Need to train a classification model\n",
      "Action:\n",
      "```\n",
      "{\n",
      "  \"action\": \"train_model\",\n",
      "  \"action_input\": {\n",
      "    \"input_csv\": \"JAK2.csv\",\n",
      "    \"mode\": \"classification\",\n",
      "    \"model_name\": \"JAK2_classification\",\n",
      "    \"output_path\": \"JAK2_classification.txt\",\n",
      "    \"activity_threshold\": 7.31\n",
      "  }\n",
      "}\n",
      "```\n",
      "\n",
      "\n",
      "\u001b[0m\n",
      "Observation: \u001b[38;5;200m\u001b[1;3m('mcc', 0.5989637798269798)\u001b[0m\n",
      "Thought:\u001b[32;1m\u001b[1;3m I know what to respond\n",
      "Action:\n",
      "```\n",
      "{\n",
      "  \"action\": \"Final Answer\",\n",
      "  \"action_input\": \"I have trained a classification model for JAK2 with a Matthews Correlation Coefficient of 0.5989637798269798.\"\n",
      "}\n",
      "```\u001b[0m\n",
      "\n",
      "\u001b[1m> Finished chain.\u001b[0m\n"
     ]
    },
    {
     "data": {
      "text/plain": [
       "'I have trained a classification model for JAK2 with a Matthews Correlation Coefficient of 0.5989637798269798.'"
      ]
     },
     "execution_count": 4,
     "metadata": {},
     "output_type": "execute_result"
    }
   ],
   "source": [
    "text = \"\"\"\n",
    "Train a classification model to predict activity for JAK2 using a fresh ChEMBL data package for the target.\n",
    "Use the 50% percentile value of the pChEMBL value as threshold to define activity\"\"\"\n",
    "agent.run(text)"
   ]
  },
  {
   "cell_type": "markdown",
   "id": "95a7dff3-8e40-4cbe-96ec-dae12d9d0f90",
   "metadata": {},
   "source": [
    "## Predict the activity for a single molecule"
   ]
  },
  {
   "cell_type": "code",
   "execution_count": 5,
   "id": "7a06548a-f8ca-4ad4-ab83-664faecd5532",
   "metadata": {
    "execution": {
     "iopub.execute_input": "2023-07-17T13:16:17.439132Z",
     "iopub.status.busy": "2023-07-17T13:16:17.438885Z",
     "iopub.status.idle": "2023-07-17T13:16:24.100800Z",
     "shell.execute_reply": "2023-07-17T13:16:24.100220Z",
     "shell.execute_reply.started": "2023-07-17T13:16:17.439113Z"
    }
   },
   "outputs": [
    {
     "name": "stdout",
     "output_type": "stream",
     "text": [
      "\n",
      "\n",
      "\u001b[1m> Entering new AgentExecutor chain...\u001b[0m\n",
      "\u001b[32;1m\u001b[1;3mAction:\n",
      "```\n",
      "{\n",
      "  \"action\": \"predict_molecule\",\n",
      "  \"action_input\": {\n",
      "    \"smiles\": \"c1ccccc1\",\n",
      "    \"model_name\": \"JAK2_regression\"\n",
      "  }\n",
      "}\n",
      "```\n",
      "\n",
      "\u001b[0m\n",
      "Observation: \u001b[36;1m\u001b[1;3m5.009191304941544\u001b[0m\n",
      "Thought:\u001b[32;1m\u001b[1;3m I have the prediction result, now I need to return the final answer.\n",
      "Action:\n",
      "```\n",
      "{\n",
      "  \"action\": \"Final Answer\",\n",
      "  \"action_input\": \"The predicted activity of the molecule 'c1ccccc1' for JAK2 is 5.009191304941544.\"\n",
      "}\n",
      "```\u001b[0m\n",
      "\n",
      "\u001b[1m> Finished chain.\u001b[0m\n"
     ]
    },
    {
     "data": {
      "text/plain": [
       "\"The predicted activity of the molecule 'c1ccccc1' for JAK2 is 5.009191304941544.\""
      ]
     },
     "execution_count": 5,
     "metadata": {},
     "output_type": "execute_result"
    }
   ],
   "source": [
    "agent.run(\"Predict the activity of the molecule 'c1ccccc1' for JAK2\")"
   ]
  },
  {
   "cell_type": "markdown",
   "id": "29575358-1a55-46b7-ac36-2b0145a2caf4",
   "metadata": {},
   "source": [
    "## Predict a single molecule using the classification model"
   ]
  },
  {
   "cell_type": "code",
   "execution_count": 6,
   "id": "0f07c007-258c-4dcd-81ba-59828af02c17",
   "metadata": {
    "execution": {
     "iopub.execute_input": "2023-07-17T13:16:24.102068Z",
     "iopub.status.busy": "2023-07-17T13:16:24.101841Z",
     "iopub.status.idle": "2023-07-17T13:16:34.117117Z",
     "shell.execute_reply": "2023-07-17T13:16:34.116604Z",
     "shell.execute_reply.started": "2023-07-17T13:16:24.102050Z"
    }
   },
   "outputs": [
    {
     "name": "stdout",
     "output_type": "stream",
     "text": [
      "\n",
      "\n",
      "\u001b[1m> Entering new AgentExecutor chain...\u001b[0m\n",
      "\u001b[32;1m\u001b[1;3mAction:\n",
      "```\n",
      "{\n",
      "  \"action\": \"predict_molecule\",\n",
      "  \"action_input\": {\n",
      "    \"smiles\": \"CC1CCN(C(=O)CC#N)CC1N(C)c1ncnc2[nH]ccc12\",\n",
      "    \"model_name\": \"JAK2_classification\"\n",
      "  }\n",
      "}\n",
      "```\n",
      "\n",
      "\u001b[0m\n",
      "Observation: \u001b[36;1m\u001b[1;3mFalse\u001b[0m\n",
      "Thought:\u001b[32;1m\u001b[1;3m I need to check if the model exists\n",
      "Action:\n",
      "```\n",
      "{\n",
      "  \"action\": \"get_models\",\n",
      "  \"action_input\": {}\n",
      "}\n",
      "```\n",
      "\n",
      "\u001b[0m\n",
      "Observation: \u001b[33;1m\u001b[1;3m{'JAK2_regression': {'params_path': 'JAK2_regression.txt', 'metric_name': 'r2', 'mode': 'regression', 'performance': 0.5840131903651216, 'timestamp': '2023-07-17 14:15:37'}, 'JAK2_classification': {'params_path': 'JAK2_classification.txt', 'metric_name': 'mcc', 'mode': 'classification', 'performance': 0.5989637798269798, 'timestamp': '2023-07-17 14:16:12'}}\u001b[0m\n",
      "Thought:\u001b[32;1m\u001b[1;3m The model exists, so I can respond\n",
      "Action:\n",
      "```\n",
      "{\n",
      "  \"action\": \"Final Answer\",\n",
      "  \"action_input\": \"The molecule 'CC1CCN(C(=O)CC#N)CC1N(C)c1ncnc2[nH]ccc12' is predicted to be inactive for JAK2 using the classification model.\"\n",
      "}\n",
      "```\n",
      "\n",
      "\u001b[0m\n",
      "\n",
      "\u001b[1m> Finished chain.\u001b[0m\n"
     ]
    },
    {
     "data": {
      "text/plain": [
       "\"The molecule 'CC1CCN(C(=O)CC#N)CC1N(C)c1ncnc2[nH]ccc12' is predicted to be inactive for JAK2 using the classification model.\""
      ]
     },
     "execution_count": 6,
     "metadata": {},
     "output_type": "execute_result"
    }
   ],
   "source": [
    "agent.run(\n",
    "    \"Predict whether the molecule 'CC1CCN(C(=O)CC#N)CC1N(C)c1ncnc2[nH]ccc12' is active for JAK2 using the classification model\"\n",
    ")"
   ]
  },
  {
   "cell_type": "markdown",
   "id": "ab25d7bd-526b-4445-bc10-de5f9e34f424",
   "metadata": {},
   "source": [
    "## Compare the predictions for two molecules"
   ]
  },
  {
   "cell_type": "code",
   "execution_count": 7,
   "id": "e4c96788-f9b4-4256-a4fe-b91a68761a4f",
   "metadata": {
    "execution": {
     "iopub.execute_input": "2023-07-17T13:16:34.118645Z",
     "iopub.status.busy": "2023-07-17T13:16:34.118408Z",
     "iopub.status.idle": "2023-07-17T13:16:46.595311Z",
     "shell.execute_reply": "2023-07-17T13:16:46.592818Z",
     "shell.execute_reply.started": "2023-07-17T13:16:34.118631Z"
    }
   },
   "outputs": [
    {
     "name": "stdout",
     "output_type": "stream",
     "text": [
      "\n",
      "\n",
      "\u001b[1m> Entering new AgentExecutor chain...\u001b[0m\n",
      "\u001b[32;1m\u001b[1;3mAction:\n",
      "```\n",
      "{\n",
      "  \"action\": \"predict_molecule\",\n",
      "  \"action_input\": {\n",
      "    \"smiles\": \"CC1CCN(C(=O)CC#N)CC1N(C)c1ncnc2[nH]ccc12\",\n",
      "    \"model_name\": \"JAK2_regression\"\n",
      "  }\n",
      "}\n",
      "```\n",
      "\n",
      "\u001b[0m\n",
      "Observation: \u001b[36;1m\u001b[1;3m7.246299979282368\u001b[0m\n",
      "Thought:\u001b[32;1m\u001b[1;3m\n",
      "Action:\n",
      "```\n",
      "{\n",
      "  \"action\": \"predict_molecule\",\n",
      "  \"action_input\": {\n",
      "    \"smiles\": \"CCS(=O)(=O)N1CC(CC#N)(n2cc(-c3ncnc4[nH]ccc34)cn2)C1\",\n",
      "    \"model_name\": \"JAK2_regression\"\n",
      "  }\n",
      "}\n",
      "```\n",
      "\n",
      "\u001b[0m\n",
      "Observation: \u001b[36;1m\u001b[1;3m7.839277643356649\u001b[0m\n",
      "Thought:\u001b[32;1m\u001b[1;3m I know what to respond\n",
      "Action:\n",
      "```\n",
      "{\n",
      "  \"action\": \"Final Answer\",\n",
      "  \"action_input\": \"The molecule with SMILES CCS(=O)(=O)N1CC(CC#N)(n2cc(-c3ncnc4[nH]ccc34)cn2)C1 is more active according to the JAK2 regression model.\"\n",
      "}\n",
      "```\u001b[0m\n",
      "\n",
      "\u001b[1m> Finished chain.\u001b[0m\n"
     ]
    },
    {
     "data": {
      "text/plain": [
       "'The molecule with SMILES CCS(=O)(=O)N1CC(CC#N)(n2cc(-c3ncnc4[nH]ccc34)cn2)C1 is more active according to the JAK2 regression model.'"
      ]
     },
     "execution_count": 7,
     "metadata": {},
     "output_type": "execute_result"
    }
   ],
   "source": [
    "text = \"\"\"\n",
    "Which molecule is more active according to the JAK2 regression model?\n",
    "Tofacitinib (SMILES CC1CCN(C(=O)CC#N)CC1N(C)c1ncnc2[nH]ccc12) or Baricitinib (SMILES CCS(=O)(=O)N1CC(CC#N)(n2cc(-c3ncnc4[nH]ccc34)cn2)C1)\n",
    "\"\"\"\n",
    "agent.run(text)"
   ]
  },
  {
   "cell_type": "markdown",
   "id": "aa744f69-fe25-4d7e-8600-bb33a32f91da",
   "metadata": {},
   "source": [
    "## List available models"
   ]
  },
  {
   "cell_type": "code",
   "execution_count": 8,
   "id": "c2e38a9b-a1a9-4079-8212-3f3a835e4422",
   "metadata": {
    "execution": {
     "iopub.execute_input": "2023-07-17T13:16:46.599768Z",
     "iopub.status.busy": "2023-07-17T13:16:46.598836Z",
     "iopub.status.idle": "2023-07-17T13:16:52.973223Z",
     "shell.execute_reply": "2023-07-17T13:16:52.971749Z",
     "shell.execute_reply.started": "2023-07-17T13:16:46.599680Z"
    }
   },
   "outputs": [
    {
     "name": "stdout",
     "output_type": "stream",
     "text": [
      "\n",
      "\n",
      "\u001b[1m> Entering new AgentExecutor chain...\u001b[0m\n",
      "\u001b[32;1m\u001b[1;3mAction:\n",
      "```\n",
      "{\n",
      "  \"action\": \"get_models\",\n",
      "  \"action_input\": {}\n",
      "}\n",
      "```\n",
      "\n",
      "\u001b[0m\n",
      "Observation: \u001b[33;1m\u001b[1;3m{'JAK2_regression': {'params_path': 'JAK2_regression.txt', 'metric_name': 'r2', 'mode': 'regression', 'performance': 0.5840131903651216, 'timestamp': '2023-07-17 14:15:37'}, 'JAK2_classification': {'params_path': 'JAK2_classification.txt', 'metric_name': 'mcc', 'mode': 'classification', 'performance': 0.5989637798269798, 'timestamp': '2023-07-17 14:16:12'}}\u001b[0m\n",
      "Thought:\u001b[32;1m\u001b[1;3m I have the list of models available\n",
      "Action:\n",
      "```\n",
      "{\n",
      "  \"action\": \"Final Answer\",\n",
      "  \"action_input\": \"The available models are JAK2_regression and JAK2_classification.\"\n",
      "}\n",
      "```\u001b[0m\n",
      "\n",
      "\u001b[1m> Finished chain.\u001b[0m\n"
     ]
    },
    {
     "data": {
      "text/plain": [
       "'The available models are JAK2_regression and JAK2_classification.'"
      ]
     },
     "execution_count": 8,
     "metadata": {},
     "output_type": "execute_result"
    }
   ],
   "source": [
    "agent.run(\"Which models are available?\")"
   ]
  },
  {
   "cell_type": "markdown",
   "id": "26b6810f-4aa7-4d81-b3d3-1b89105bfcab",
   "metadata": {},
   "source": [
    "## Retrain a model"
   ]
  },
  {
   "cell_type": "code",
   "execution_count": 9,
   "id": "0814723c-0c31-4a85-9225-df42985c3bd1",
   "metadata": {
    "execution": {
     "iopub.execute_input": "2023-07-17T13:16:52.974697Z",
     "iopub.status.busy": "2023-07-17T13:16:52.974183Z",
     "iopub.status.idle": "2023-07-17T13:17:39.647889Z",
     "shell.execute_reply": "2023-07-17T13:17:39.644450Z",
     "shell.execute_reply.started": "2023-07-17T13:16:52.974661Z"
    }
   },
   "outputs": [
    {
     "name": "stdout",
     "output_type": "stream",
     "text": [
      "\n",
      "\n",
      "\u001b[1m> Entering new AgentExecutor chain...\u001b[0m\n",
      "\u001b[32;1m\u001b[1;3mAction:\n",
      "```\n",
      "{\n",
      "  \"action\": \"query_target_data\",\n",
      "  \"action_input\": {\n",
      "    \"target_chembl_id\": \"CHEMBL542\",\n",
      "    \"output_csv\": \"JAK2.csv\",\n",
      "    \"standard_types\": [\"Kd\", \"Ki\", \"IC50\"]\n",
      "  }\n",
      "}\n",
      "```\n",
      "\n",
      "\u001b[0m"
     ]
    },
    {
     "name": "stderr",
     "output_type": "stream",
     "text": [
      "Querying ChEMBL for CHEMBL542: 0it [00:02, ?it/s]\n"
     ]
    },
    {
     "name": "stdout",
     "output_type": "stream",
     "text": [
      "\n",
      "Observation: \u001b[31;1m\u001b[1;3mNo data found for CHEMBL542\u001b[0m\n",
      "Thought:\u001b[32;1m\u001b[1;3m I need to get the ChEMBL target ID for JAK2\n",
      "Action:\n",
      "```\n",
      "{\n",
      "  \"action\": \"protein_name_to_accession\",\n",
      "  \"action_input\": {\n",
      "    \"protein_name\": \"JAK2\"\n",
      "  }\n",
      "}\n",
      "```\n",
      "\n",
      "\u001b[0m\n",
      "Observation: \u001b[38;5;200m\u001b[1;3m('JAK2_HUMAN', 'Tyrosine-protein kinase JAK2', 'O60674')\u001b[0m\n",
      "Thought:\u001b[32;1m\u001b[1;3m I need to get the ChEMBL target ID for the Uniprot accession\n",
      "Action:\n",
      "```\n",
      "{\n",
      "  \"action\": \"accession_to_chembl_target_id\",\n",
      "  \"action_input\": {\n",
      "    \"accession\": \"O60674\"\n",
      "  }\n",
      "}\n",
      "```\n",
      "\n",
      "\u001b[0m\n",
      "Observation: \u001b[36;1m\u001b[1;3m('Tyrosine-protein kinase JAK2', 'CHEMBL2971', 'O60674')\u001b[0m\n",
      "Thought:\u001b[32;1m\u001b[1;3m I need to query the ChEMBL data package for the ChEMBL target ID\n",
      "Action:\n",
      "```\n",
      "{\n",
      "  \"action\": \"query_target_data\",\n",
      "  \"action_input\": {\n",
      "    \"target_chembl_id\": \"CHEMBL2971\",\n",
      "    \"output_csv\": \"JAK2.csv\",\n",
      "    \"standard_types\": [\"Kd\", \"Ki\", \"IC50\"]\n",
      "  }\n",
      "}\n",
      "```\n",
      "\n",
      "\n",
      "\u001b[0m"
     ]
    },
    {
     "name": "stderr",
     "output_type": "stream",
     "text": [
      "Querying ChEMBL for CHEMBL2971: 100%|███████████████████████████████████████████| 7454/7454 [00:00<00:00, 17712.15it/s]\n",
      "/home/giulio/work/qsar-llm/tools.py:26: SettingWithCopyWarning: \n",
      "A value is trying to be set on a copy of a slice from a DataFrame.\n",
      "Try using .loc[row_indexer,col_indexer] = value instead\n",
      "\n",
      "See the caveats in the documentation: https://pandas.pydata.org/pandas-docs/stable/user_guide/indexing.html#returning-a-view-versus-a-copy\n",
      "  df[col] = pd.to_numeric(df[col])\n"
     ]
    },
    {
     "name": "stdout",
     "output_type": "stream",
     "text": [
      "\n",
      "Observation: \u001b[33;1m\u001b[1;3m{'pchembl_value': {'count': 6484.0, 'mean': 7.341097866394738, 'std': 1.219005643404945, 'min': 3.84, '25%': 6.48, '50%': 7.31, '75%': 8.14, 'max': 10.97}}\u001b[0m\n",
      "Thought:\u001b[32;1m\u001b[1;3m I need to train a model from the CSV ChEMBL data package\n",
      "Action:\n",
      "```\n",
      "{\n",
      "  \"action\": \"train_model\",\n",
      "  \"action_input\": {\n",
      "    \"input_csv\": \"JAK2.csv\",\n",
      "    \"mode\": \"regression\",\n",
      "    \"model_name\": \"JAK2_regression\",\n",
      "    \"output_path\": \"JAK2_regression.txt\",\n",
      "    \"activity_threshold\": 6\n",
      "  }\n",
      "}\n",
      "```\n",
      "\n",
      "\n",
      "\u001b[0m\n",
      "Observation: \u001b[38;5;200m\u001b[1;3m('r2', 0.5840131903651216)\u001b[0m\n",
      "Thought:\u001b[32;1m\u001b[1;3m I know what to respond\n",
      "Action:\n",
      "```\n",
      "{\n",
      "  \"action\": \"Final Answer\",\n",
      "  \"action_input\": \"I have successfully downloaded the ChEMBL data package for JAK2, retrained the JAK2 regression model with it, and achieved an R2 score of 0.58.\"\n",
      "}\n",
      "```\u001b[0m\n",
      "\n",
      "\u001b[1m> Finished chain.\u001b[0m\n"
     ]
    },
    {
     "data": {
      "text/plain": [
       "'I have successfully downloaded the ChEMBL data package for JAK2, retrained the JAK2 regression model with it, and achieved an R2 score of 0.58.'"
      ]
     },
     "execution_count": 9,
     "metadata": {},
     "output_type": "execute_result"
    }
   ],
   "source": [
    "agent.run(\n",
    "    \"Download the ChEMBL data package for JAK2 again and retrain the JAK2 regression model with it\"\n",
    ")"
   ]
  },
  {
   "cell_type": "code",
   "execution_count": 10,
   "id": "81f578a2-54a7-4db4-acff-5170ccc5fc9b",
   "metadata": {
    "execution": {
     "iopub.execute_input": "2023-07-17T13:17:39.651318Z",
     "iopub.status.busy": "2023-07-17T13:17:39.650561Z",
     "iopub.status.idle": "2023-07-17T13:17:39.663252Z",
     "shell.execute_reply": "2023-07-17T13:17:39.660744Z",
     "shell.execute_reply.started": "2023-07-17T13:17:39.651246Z"
    }
   },
   "outputs": [],
   "source": [
    "shelf.close()"
   ]
  }
 ],
 "metadata": {
  "kernelspec": {
   "display_name": "Python [conda env:qsar-llm]",
   "language": "python",
   "name": "conda-env-qsar-llm-py"
  },
  "language_info": {
   "codemirror_mode": {
    "name": "ipython",
    "version": 3
   },
   "file_extension": ".py",
   "mimetype": "text/x-python",
   "name": "python",
   "nbconvert_exporter": "python",
   "pygments_lexer": "ipython3",
   "version": "3.8.17"
  }
 },
 "nbformat": 4,
 "nbformat_minor": 5
}
